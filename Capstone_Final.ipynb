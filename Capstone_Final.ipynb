{
 "cells": [
  {
   "cell_type": "markdown",
   "metadata": {},
   "source": [
    "# IBM Applied Data Science Project Coursera Capstone\n",
    "# Potential Places to Establish Hospitals in Singapore\n",
    "### By: Vincentius Indra Sulaiman"
   ]
  },
  {
   "cell_type": "markdown",
   "metadata": {},
   "source": [
    "## Import Section"
   ]
  },
  {
   "cell_type": "code",
   "execution_count": 2,
   "metadata": {},
   "outputs": [
    {
     "name": "stdout",
     "output_type": "stream",
     "text": [
      "Collecting beautifulsoup4\n",
      "\u001b[?25l  Downloading https://files.pythonhosted.org/packages/cb/a1/c698cf319e9cfed6b17376281bd0efc6bfc8465698f54170ef60a485ab5d/beautifulsoup4-4.8.2-py3-none-any.whl (106kB)\n",
      "\u001b[K     |████████████████████████████████| 112kB 4.1MB/s eta 0:00:01\n",
      "\u001b[?25hCollecting soupsieve>=1.2 (from beautifulsoup4)\n",
      "  Downloading https://files.pythonhosted.org/packages/05/cf/ea245e52f55823f19992447b008bcbb7f78efc5960d77f6c34b5b45b36dd/soupsieve-2.0-py2.py3-none-any.whl\n",
      "Installing collected packages: soupsieve, beautifulsoup4\n",
      "Successfully installed beautifulsoup4-4.8.2 soupsieve-2.0\n",
      "Searching for lxml\n",
      "Reading https://pypi.org/simple/lxml/\n",
      "Downloading https://files.pythonhosted.org/packages/dd/ba/a0e6866057fc0bbd17192925c1d63a3b85cf522965de9bc02364d08e5b84/lxml-4.5.0-cp36-cp36m-manylinux1_x86_64.whl#sha256=ebec08091a22c2be870890913bdadd86fcd8e9f0f22bcb398abd3af914690c15\n",
      "Best match: lxml 4.5.0\n",
      "Processing lxml-4.5.0-cp36-cp36m-manylinux1_x86_64.whl\n",
      "Installing lxml-4.5.0-cp36-cp36m-manylinux1_x86_64.whl to /home/jupyterlab/conda/envs/python/lib/python3.6/site-packages\n",
      "writing requirements to /home/jupyterlab/conda/envs/python/lib/python3.6/site-packages/lxml-4.5.0-py3.6-linux-x86_64.egg/EGG-INFO/requires.txt\n",
      "Adding lxml 4.5.0 to easy-install.pth file\n",
      "\n",
      "Installed /home/jupyterlab/conda/envs/python/lib/python3.6/site-packages/lxml-4.5.0-py3.6-linux-x86_64.egg\n",
      "Processing dependencies for lxml\n",
      "Finished processing dependencies for lxml\n",
      "Collecting geocoder\n",
      "\u001b[?25l  Downloading https://files.pythonhosted.org/packages/4f/6b/13166c909ad2f2d76b929a4227c952630ebaf0d729f6317eb09cbceccbab/geocoder-1.38.1-py2.py3-none-any.whl (98kB)\n",
      "\u001b[K     |████████████████████████████████| 102kB 16.8MB/s ta 0:00:01\n",
      "\u001b[?25hCollecting ratelim (from geocoder)\n",
      "  Downloading https://files.pythonhosted.org/packages/f2/98/7e6d147fd16a10a5f821db6e25f192265d6ecca3d82957a4fdd592cad49c/ratelim-0.1.6-py2.py3-none-any.whl\n",
      "Requirement already satisfied: requests in /home/jupyterlab/conda/envs/python/lib/python3.6/site-packages (from geocoder) (2.22.0)\n",
      "Collecting future (from geocoder)\n",
      "\u001b[?25l  Downloading https://files.pythonhosted.org/packages/45/0b/38b06fd9b92dc2b68d58b75f900e97884c45bedd2ff83203d933cf5851c9/future-0.18.2.tar.gz (829kB)\n",
      "\u001b[K     |████████████████████████████████| 829kB 18.8MB/s eta 0:00:01\n",
      "\u001b[?25hRequirement already satisfied: six in /home/jupyterlab/conda/envs/python/lib/python3.6/site-packages (from geocoder) (1.13.0)\n",
      "Collecting click (from geocoder)\n",
      "\u001b[?25l  Downloading https://files.pythonhosted.org/packages/fa/37/45185cb5abbc30d7257104c434fe0b07e5a195a6847506c074527aa599ec/Click-7.0-py2.py3-none-any.whl (81kB)\n",
      "\u001b[K     |████████████████████████████████| 81kB 15.1MB/s eta 0:00:01\n",
      "\u001b[?25hRequirement already satisfied: decorator in /home/jupyterlab/conda/envs/python/lib/python3.6/site-packages (from ratelim->geocoder) (4.4.1)\n",
      "Requirement already satisfied: urllib3!=1.25.0,!=1.25.1,<1.26,>=1.21.1 in /home/jupyterlab/conda/envs/python/lib/python3.6/site-packages (from requests->geocoder) (1.25.7)\n",
      "Requirement already satisfied: chardet<3.1.0,>=3.0.2 in /home/jupyterlab/conda/envs/python/lib/python3.6/site-packages (from requests->geocoder) (3.0.4)\n",
      "Requirement already satisfied: idna<2.9,>=2.5 in /home/jupyterlab/conda/envs/python/lib/python3.6/site-packages (from requests->geocoder) (2.8)\n",
      "Requirement already satisfied: certifi>=2017.4.17 in /home/jupyterlab/conda/envs/python/lib/python3.6/site-packages (from requests->geocoder) (2019.9.11)\n",
      "Building wheels for collected packages: future\n",
      "  Building wheel for future (setup.py) ... \u001b[?25ldone\n",
      "\u001b[?25h  Stored in directory: /home/jupyterlab/.cache/pip/wheels/8b/99/a0/81daf51dcd359a9377b110a8a886b3895921802d2fc1b2397e\n",
      "Successfully built future\n",
      "Installing collected packages: ratelim, future, click, geocoder\n",
      "Successfully installed click-7.0 future-0.18.2 geocoder-1.38.1 ratelim-0.1.6\n",
      "Solving environment: done\n",
      "\n",
      "\n",
      "==> WARNING: A newer version of conda exists. <==\n",
      "  current version: 4.5.11\n",
      "  latest version: 4.8.2\n",
      "\n",
      "Please update conda by running\n",
      "\n",
      "    $ conda update -n base -c defaults conda\n",
      "\n",
      "\n",
      "\n",
      "## Package Plan ##\n",
      "\n",
      "  environment location: /home/jupyterlab/conda/envs/python\n",
      "\n",
      "  added / updated specs: \n",
      "    - geopy\n",
      "\n",
      "\n",
      "The following packages will be downloaded:\n",
      "\n",
      "    package                    |            build\n",
      "    ---------------------------|-----------------\n",
      "    certifi-2019.11.28         |           py36_0         149 KB  conda-forge\n",
      "    scikit-learn-0.20.1        |   py36h22eb022_0         5.7 MB\n",
      "    liblapack-3.8.0            |      11_openblas          10 KB  conda-forge\n",
      "    numpy-1.18.1               |   py36h95a1406_0         5.2 MB  conda-forge\n",
      "    liblapacke-3.8.0           |      11_openblas          10 KB  conda-forge\n",
      "    geographiclib-1.50         |             py_0          34 KB  conda-forge\n",
      "    libopenblas-0.3.6          |       h5a2b251_2         7.7 MB\n",
      "    scipy-1.4.1                |   py36h921218d_0        18.9 MB  conda-forge\n",
      "    geopy-1.21.0               |             py_0          58 KB  conda-forge\n",
      "    libcblas-3.8.0             |      11_openblas          10 KB  conda-forge\n",
      "    libblas-3.8.0              |      11_openblas          10 KB  conda-forge\n",
      "    blas-2.11                  |         openblas          10 KB  conda-forge\n",
      "    ------------------------------------------------------------\n",
      "                                           Total:        37.9 MB\n",
      "\n",
      "The following NEW packages will be INSTALLED:\n",
      "\n",
      "    geographiclib: 1.50-py_0                              conda-forge\n",
      "    geopy:         1.21.0-py_0                            conda-forge\n",
      "    libblas:       3.8.0-11_openblas                      conda-forge\n",
      "    libcblas:      3.8.0-11_openblas                      conda-forge\n",
      "    liblapack:     3.8.0-11_openblas                      conda-forge\n",
      "    liblapacke:    3.8.0-11_openblas                      conda-forge\n",
      "    libopenblas:   0.3.6-h5a2b251_2                                  \n",
      "\n",
      "The following packages will be UPDATED:\n",
      "\n",
      "    blas:          1.1-openblas                           conda-forge --> 2.11-openblas         conda-forge\n",
      "    certifi:       2019.9.11-py36_0                       conda-forge --> 2019.11.28-py36_0     conda-forge\n",
      "    numpy:         1.16.2-py36_blas_openblash1522bff_0    conda-forge [blas_openblas] --> 1.18.1-py36h95a1406_0 conda-forge\n",
      "    scipy:         1.2.1-py36_blas_openblash1522bff_0     conda-forge [blas_openblas] --> 1.4.1-py36h921218d_0  conda-forge\n",
      "\n",
      "The following packages will be DOWNGRADED:\n",
      "\n",
      "    scikit-learn:  0.20.1-py36_blas_openblashebff5e3_1200 conda-forge [blas_openblas] --> 0.20.1-py36h22eb022_0            \n",
      "\n",
      "\n",
      "Downloading and Extracting Packages\n",
      "certifi-2019.11.28   | 149 KB    | ##################################### | 100% \n",
      "scikit-learn-0.20.1  | 5.7 MB    | ##################################### | 100% \n",
      "liblapack-3.8.0      | 10 KB     | ##################################### | 100% \n",
      "numpy-1.18.1         | 5.2 MB    | ##################################### | 100% \n",
      "liblapacke-3.8.0     | 10 KB     | ##################################### | 100% \n",
      "geographiclib-1.50   | 34 KB     | ##################################### | 100% \n",
      "libopenblas-0.3.6    | 7.7 MB    | ##################################### | 100% \n",
      "scipy-1.4.1          | 18.9 MB   | ##################################### | 100% \n",
      "geopy-1.21.0         | 58 KB     | ##################################### | 100% \n",
      "libcblas-3.8.0       | 10 KB     | ##################################### | 100% \n",
      "libblas-3.8.0        | 10 KB     | ##################################### | 100% \n",
      "blas-2.11            | 10 KB     | ##################################### | 100% \n",
      "Preparing transaction: done\n",
      "Verifying transaction: done\n",
      "Executing transaction: done\n",
      "Solving environment: done\n",
      "\n",
      "\n",
      "==> WARNING: A newer version of conda exists. <==\n",
      "  current version: 4.5.11\n",
      "  latest version: 4.8.2\n",
      "\n",
      "Please update conda by running\n",
      "\n",
      "    $ conda update -n base -c defaults conda\n",
      "\n",
      "\n",
      "\n",
      "# All requested packages already installed.\n",
      "\n",
      "Collecting yellowbrick\n",
      "\u001b[?25l  Downloading https://files.pythonhosted.org/packages/13/95/a14e4fdfb8b1c8753bbe74a626e910a98219ef9c87c6763585bbd30d84cf/yellowbrick-1.1-py3-none-any.whl (263kB)\n",
      "\u001b[K     |████████████████████████████████| 266kB 18.4MB/s eta 0:00:01\n",
      "\u001b[?25hRequirement already satisfied: numpy>=1.13.0 in /home/jupyterlab/conda/envs/python/lib/python3.6/site-packages (from yellowbrick) (1.18.1)\n",
      "Requirement already satisfied: matplotlib!=3.0.0,>=2.0.2 in /home/jupyterlab/conda/envs/python/lib/python3.6/site-packages (from yellowbrick) (3.1.1)\n",
      "Requirement already satisfied: scipy>=1.0.0 in /home/jupyterlab/conda/envs/python/lib/python3.6/site-packages (from yellowbrick) (1.4.1)\n",
      "Requirement already satisfied: cycler>=0.10.0 in /home/jupyterlab/conda/envs/python/lib/python3.6/site-packages (from yellowbrick) (0.10.0)\n",
      "Requirement already satisfied: scikit-learn>=0.20 in /home/jupyterlab/conda/envs/python/lib/python3.6/site-packages (from yellowbrick) (0.20.1)\n",
      "Requirement already satisfied: python-dateutil>=2.1 in /home/jupyterlab/conda/envs/python/lib/python3.6/site-packages (from matplotlib!=3.0.0,>=2.0.2->yellowbrick) (2.8.1)\n",
      "Requirement already satisfied: pyparsing!=2.0.4,!=2.1.2,!=2.1.6,>=2.0.1 in /home/jupyterlab/conda/envs/python/lib/python3.6/site-packages (from matplotlib!=3.0.0,>=2.0.2->yellowbrick) (2.4.5)\n",
      "Requirement already satisfied: kiwisolver>=1.0.1 in /home/jupyterlab/conda/envs/python/lib/python3.6/site-packages (from matplotlib!=3.0.0,>=2.0.2->yellowbrick) (1.1.0)\n",
      "Requirement already satisfied: six in /home/jupyterlab/conda/envs/python/lib/python3.6/site-packages (from cycler>=0.10.0->yellowbrick) (1.13.0)\n",
      "Requirement already satisfied: setuptools in /home/jupyterlab/conda/envs/python/lib/python3.6/site-packages (from kiwisolver>=1.0.1->matplotlib!=3.0.0,>=2.0.2->yellowbrick) (41.6.0.post20191101)\n",
      "Installing collected packages: yellowbrick\n",
      "Successfully installed yellowbrick-1.1\n",
      "Installation successful\n"
     ]
    }
   ],
   "source": [
    "#Install Required Packages\n",
    "!pip install beautifulsoup4\n",
    "!easy_install lxml\n",
    "!pip install geocoder\n",
    "!conda install -c conda-forge geopy --yes\n",
    "!conda install -c conda-forge folium=0.5.0 --yes\n",
    "!pip install yellowbrick\n",
    "print('Installation successful')"
   ]
  },
  {
   "cell_type": "code",
   "execution_count": 3,
   "metadata": {},
   "outputs": [
    {
     "name": "stdout",
     "output_type": "stream",
     "text": [
      "Libraries imported successfully.\n"
     ]
    }
   ],
   "source": [
    "import pandas as pd\n",
    "import requests\n",
    "from bs4 import BeautifulSoup\n",
    "import numpy as np\n",
    "pd.set_option('display.max_columns', None)\n",
    "pd.set_option('display.max_rows', None)\n",
    "import json \n",
    "from geopy.geocoders import Nominatim\n",
    "import geocoder \n",
    "from pandas.io.json import json_normalize\n",
    "import matplotlib.cm as cm\n",
    "import matplotlib.colors as colors\n",
    "from sklearn.cluster import KMeans\n",
    "import folium # map rendering library\n",
    "from sklearn.preprocessing import MinMaxScaler\n",
    "from yellowbrick.cluster import KElbowVisualizer\n",
    "\n",
    "print('Libraries imported successfully.')"
   ]
  },
  {
   "cell_type": "markdown",
   "metadata": {},
   "source": [
    "## Scraping Section to obtain dataframe"
   ]
  },
  {
   "cell_type": "code",
   "execution_count": 4,
   "metadata": {},
   "outputs": [],
   "source": [
    "# We will scrape the wikipedia\n",
    "\n",
    "url = 'https://en.wikipedia.org/wiki/New_towns_of_Singapore'\n",
    "extraction = requests.get(url).text\n",
    "wiki_data = BeautifulSoup(extraction, features='html')"
   ]
  },
  {
   "cell_type": "code",
   "execution_count": 54,
   "metadata": {},
   "outputs": [],
   "source": [
    "column_names = ['Name', 'Chinese', 'Pinyin', 'Tamil', 'Total Area', 'Residential Area', 'Units', 'Ultimate', 'Population']\n",
    "df_SG_original = pd.DataFrame(columns = column_names)\n",
    "\n",
    "content = wiki_data.find('div', class_='mw-parser-output')\n",
    "table = content.table.tbody\n",
    "name = 0\n",
    "chinese = 0\n",
    "pinyin = 0\n",
    "tamil = 0\n",
    "total_area = 0\n",
    "residential_area = 0\n",
    "units = 0\n",
    "ultimate = 0\n",
    "population = 0\n",
    "\n",
    "for tr in table.find_all('tr'):\n",
    "    i = 0\n",
    "    for td in tr.find_all('td'):\n",
    "        if i == 0:\n",
    "            name = td.text.strip('\\n')\n",
    "            i = i + 1\n",
    "        elif i == 1:\n",
    "            chinese = td.text.strip('\\n')\n",
    "            i = i + 1\n",
    "        elif i == 2:\n",
    "            pinyin = td.text.strip('\\n')\n",
    "            i = i + 1\n",
    "        elif i == 3:\n",
    "            tamil = td.text.strip('\\n')\n",
    "            i = i + 1\n",
    "        elif i == 4:\n",
    "            total_area = td.text.strip('\\n')\n",
    "            i = i + 1\n",
    "        elif i == 5:\n",
    "            residential_area = td.text.strip('\\n')\n",
    "            i = i + 1\n",
    "        elif i == 6:\n",
    "            units = td.text.strip('\\n')\n",
    "            i = i + 1 \n",
    "        elif i == 7:\n",
    "            ultimate = td.text.strip('\\n')\n",
    "            i = i + 1\n",
    "        elif i == 8:\n",
    "            population = td.text.strip('\\n')\n",
    "    df_SG_original = df_SG_original.append({'Name': name,'Chinese': chinese, 'Pinyin': pinyin, 'Tamil':tamil, \\\n",
    "    'Total Area': total_area,'Residential Area': residential_area, 'Units': units, 'Ultimate': ultimate, \\\n",
    "    'Population': population},ignore_index=True)\n",
    "\n",
    "#Copy the data from original df_SG\n",
    "df_SG = df_SG_original.copy()\n",
    "\n",
    "#Cleaning Service that removes unnecessary row and columns\n",
    "df_SG.drop(df_SG.index[0], inplace=True)\n",
    "df_SG.drop({'Chinese', 'Pinyin', 'Tamil', 'Units', 'Ultimate'}, axis=1,inplace = True)\n",
    "df_SG.reset_index(inplace=True, drop=True)"
   ]
  },
  {
   "cell_type": "markdown",
   "metadata": {},
   "source": [
    "## Coordinate Data Collection Section"
   ]
  },
  {
   "cell_type": "code",
   "execution_count": 55,
   "metadata": {},
   "outputs": [],
   "source": [
    "#Defining function to obtain coordinate data using geocoder\n",
    "def get_latlng(Name):\n",
    "    # initialize your variable to None\n",
    "    lat_lng_coords = None\n",
    "    # loop until you get the coordinates\n",
    "    while(lat_lng_coords is None):\n",
    "        g = geocoder.arcgis('{}, KSingapore'.format(Name))\n",
    "        lat_lng_coords = g.latlng\n",
    "    return lat_lng_coords"
   ]
  },
  {
   "cell_type": "code",
   "execution_count": 56,
   "metadata": {},
   "outputs": [],
   "source": [
    "#Obtaining coordinate data\n",
    "coordinates = [get_latlng(Name) for Name in df_SG['Name'].tolist()]\n",
    "df_coordinates = pd.DataFrame(coordinates, columns=['Latitude', 'Longitude'])"
   ]
  },
  {
   "cell_type": "code",
   "execution_count": 59,
   "metadata": {},
   "outputs": [
    {
     "data": {
      "text/html": [
       "<div>\n",
       "<style scoped>\n",
       "    .dataframe tbody tr th:only-of-type {\n",
       "        vertical-align: middle;\n",
       "    }\n",
       "\n",
       "    .dataframe tbody tr th {\n",
       "        vertical-align: top;\n",
       "    }\n",
       "\n",
       "    .dataframe thead th {\n",
       "        text-align: right;\n",
       "    }\n",
       "</style>\n",
       "<table border=\"1\" class=\"dataframe\">\n",
       "  <thead>\n",
       "    <tr style=\"text-align: right;\">\n",
       "      <th></th>\n",
       "      <th>Name</th>\n",
       "      <th>Total Area</th>\n",
       "      <th>Residential Area</th>\n",
       "      <th>Population</th>\n",
       "      <th>Latitude</th>\n",
       "      <th>Longitude</th>\n",
       "    </tr>\n",
       "  </thead>\n",
       "  <tbody>\n",
       "    <tr>\n",
       "      <th>0</th>\n",
       "      <td>Ang Mo Kio</td>\n",
       "      <td>6.38</td>\n",
       "      <td>2.83</td>\n",
       "      <td>149,800</td>\n",
       "      <td>1.37161</td>\n",
       "      <td>103.84546</td>\n",
       "    </tr>\n",
       "    <tr>\n",
       "      <th>1</th>\n",
       "      <td>Bedok</td>\n",
       "      <td>9.37</td>\n",
       "      <td>4.18</td>\n",
       "      <td>204,300</td>\n",
       "      <td>1.32425</td>\n",
       "      <td>103.95297</td>\n",
       "    </tr>\n",
       "    <tr>\n",
       "      <th>2</th>\n",
       "      <td>Bishan</td>\n",
       "      <td>6.90</td>\n",
       "      <td>1.72</td>\n",
       "      <td>65,700</td>\n",
       "      <td>1.35079</td>\n",
       "      <td>103.85110</td>\n",
       "    </tr>\n",
       "    <tr>\n",
       "      <th>3</th>\n",
       "      <td>Bukit Batok</td>\n",
       "      <td>7.85</td>\n",
       "      <td>2.91</td>\n",
       "      <td>113,800</td>\n",
       "      <td>1.34952</td>\n",
       "      <td>103.75277</td>\n",
       "    </tr>\n",
       "    <tr>\n",
       "      <th>4</th>\n",
       "      <td>Bukit Merah</td>\n",
       "      <td>8.58</td>\n",
       "      <td>3.12</td>\n",
       "      <td>147,000</td>\n",
       "      <td>1.28322</td>\n",
       "      <td>103.81676</td>\n",
       "    </tr>\n",
       "  </tbody>\n",
       "</table>\n",
       "</div>"
      ],
      "text/plain": [
       "          Name Total Area Residential Area Population  Latitude  Longitude\n",
       "0   Ang Mo Kio       6.38             2.83    149,800   1.37161  103.84546\n",
       "1        Bedok       9.37             4.18    204,300   1.32425  103.95297\n",
       "2       Bishan       6.90             1.72     65,700   1.35079  103.85110\n",
       "3  Bukit Batok       7.85             2.91    113,800   1.34952  103.75277\n",
       "4  Bukit Merah       8.58             3.12    147,000   1.28322  103.81676"
      ]
     },
     "execution_count": 59,
     "metadata": {},
     "output_type": "execute_result"
    }
   ],
   "source": [
    "#Appending coordinate data to our dataframe\n",
    "df_SG['Latitude'] = df_coordinates['Latitude']\n",
    "df_SG['Longitude'] = df_coordinates['Longitude']\n",
    "df_SG.head()"
   ]
  },
  {
   "cell_type": "code",
   "execution_count": 60,
   "metadata": {},
   "outputs": [],
   "source": [
    "#Saving as CSV file\n",
    "df_SG.to_csv('df_SG.csv', index=False)"
   ]
  },
  {
   "cell_type": "markdown",
   "metadata": {},
   "source": [
    "## Applying some arithmetical operation to obtain population density"
   ]
  },
  {
   "cell_type": "code",
   "execution_count": 61,
   "metadata": {},
   "outputs": [
    {
     "data": {
      "text/html": [
       "<div>\n",
       "<style scoped>\n",
       "    .dataframe tbody tr th:only-of-type {\n",
       "        vertical-align: middle;\n",
       "    }\n",
       "\n",
       "    .dataframe tbody tr th {\n",
       "        vertical-align: top;\n",
       "    }\n",
       "\n",
       "    .dataframe thead th {\n",
       "        text-align: right;\n",
       "    }\n",
       "</style>\n",
       "<table border=\"1\" class=\"dataframe\">\n",
       "  <thead>\n",
       "    <tr style=\"text-align: right;\">\n",
       "      <th></th>\n",
       "      <th>Name</th>\n",
       "      <th>Total Area</th>\n",
       "      <th>Residential_Area</th>\n",
       "      <th>Population</th>\n",
       "      <th>Latitude</th>\n",
       "      <th>Longitude</th>\n",
       "      <th>Population Density</th>\n",
       "    </tr>\n",
       "  </thead>\n",
       "  <tbody>\n",
       "    <tr>\n",
       "      <th>0</th>\n",
       "      <td>Ang Mo Kio</td>\n",
       "      <td>6.38</td>\n",
       "      <td>2.83</td>\n",
       "      <td>149.8</td>\n",
       "      <td>1.37161</td>\n",
       "      <td>103.84546</td>\n",
       "      <td>52.932862</td>\n",
       "    </tr>\n",
       "    <tr>\n",
       "      <th>1</th>\n",
       "      <td>Bedok</td>\n",
       "      <td>9.37</td>\n",
       "      <td>4.18</td>\n",
       "      <td>204.3</td>\n",
       "      <td>1.32425</td>\n",
       "      <td>103.95297</td>\n",
       "      <td>48.875598</td>\n",
       "    </tr>\n",
       "    <tr>\n",
       "      <th>2</th>\n",
       "      <td>Bishan</td>\n",
       "      <td>6.90</td>\n",
       "      <td>1.72</td>\n",
       "      <td>65.7</td>\n",
       "      <td>1.35079</td>\n",
       "      <td>103.85110</td>\n",
       "      <td>38.197674</td>\n",
       "    </tr>\n",
       "    <tr>\n",
       "      <th>3</th>\n",
       "      <td>Bukit Batok</td>\n",
       "      <td>7.85</td>\n",
       "      <td>2.91</td>\n",
       "      <td>113.8</td>\n",
       "      <td>1.34952</td>\n",
       "      <td>103.75277</td>\n",
       "      <td>39.106529</td>\n",
       "    </tr>\n",
       "    <tr>\n",
       "      <th>4</th>\n",
       "      <td>Bukit Merah</td>\n",
       "      <td>8.58</td>\n",
       "      <td>3.12</td>\n",
       "      <td>147.0</td>\n",
       "      <td>1.28322</td>\n",
       "      <td>103.81676</td>\n",
       "      <td>47.115385</td>\n",
       "    </tr>\n",
       "  </tbody>\n",
       "</table>\n",
       "</div>"
      ],
      "text/plain": [
       "          Name  Total Area  Residential_Area  Population  Latitude  Longitude  \\\n",
       "0   Ang Mo Kio        6.38              2.83       149.8   1.37161  103.84546   \n",
       "1        Bedok        9.37              4.18       204.3   1.32425  103.95297   \n",
       "2       Bishan        6.90              1.72        65.7   1.35079  103.85110   \n",
       "3  Bukit Batok        7.85              2.91       113.8   1.34952  103.75277   \n",
       "4  Bukit Merah        8.58              3.12       147.0   1.28322  103.81676   \n",
       "\n",
       "   Population Density  \n",
       "0           52.932862  \n",
       "1           48.875598  \n",
       "2           38.197674  \n",
       "3           39.106529  \n",
       "4           47.115385  "
      ]
     },
     "execution_count": 61,
     "metadata": {},
     "output_type": "execute_result"
    }
   ],
   "source": [
    "df_SG2 = pd.read_csv('df_SG.csv')\n",
    "df_SG3 = pd.read_csv('df_SG.csv')\n",
    "df_SG2.rename(columns={'Residential Area' : 'Residential_Area'}, inplace=True)\n",
    "df_SG2['Population'] = df_SG2['Population'].apply(lambda x: x.replace(',','.'))\n",
    "df_SG2 = df_SG2.iloc[:, 1:].astype(float)\n",
    "df_SG2['Population Density'] = df_SG2.Population / df_SG2.Residential_Area\n",
    "df_SG2['Name'] = df_SG3['Name']\n",
    "fixed_columns = [df_SG2.columns[-1]] + list(df_SG2.columns[:-1])\n",
    "df_SG2 = df_SG2[fixed_columns]\n",
    "df_SG2.head()"
   ]
  },
  {
   "cell_type": "markdown",
   "metadata": {},
   "source": [
    "## Folium Section : MAPS"
   ]
  },
  {
   "cell_type": "code",
   "execution_count": 62,
   "metadata": {},
   "outputs": [
    {
     "name": "stdout",
     "output_type": "stream",
     "text": [
      "The coordinates of Singapore are 1.357107, 103.8194992.\n"
     ]
    }
   ],
   "source": [
    "# Obtain Singapore Coordinates\n",
    "df_SG4 = df_SG2\n",
    "country = 'Singapore'\n",
    "\n",
    "geolocator = Nominatim(user_agent='HeySingapore')\n",
    "location = geolocator.geocode(country)\n",
    "latitude = location.latitude\n",
    "longitude = location.longitude\n",
    "print('The coordinates of Singapore are {}, {}.'.format(latitude, longitude))"
   ]
  },
  {
   "cell_type": "code",
   "execution_count": 63,
   "metadata": {},
   "outputs": [
    {
     "data": {
      "text/html": [
       "<div style=\"width:100%;\"><div style=\"position:relative;width:100%;height:0;padding-bottom:60%;\"><iframe src=\"data:text/html;charset=utf-8;base64,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\" style=\"position:absolute;width:100%;height:100%;left:0;top:0;border:none !important;\" allowfullscreen webkitallowfullscreen mozallowfullscreen></iframe></div></div>"
      ],
      "text/plain": [
       "<folium.folium.Map at 0x7f1ebcb6eda0>"
      ]
     },
     "execution_count": 63,
     "metadata": {},
     "output_type": "execute_result"
    }
   ],
   "source": [
    "#Let us create Singapore Maps\n",
    "map_SG = folium.Map(location=[latitude, longitude], zoom_start=11)\n",
    "\n",
    "#Add markers to Singapore map\n",
    "for lat, lng, name in zip(df_SG4['Latitude'], df_SG4['Longitude'], df_SG4['Name']):\n",
    "    label = '{}'.format(name)\n",
    "    label = folium.Popup(label, parse_html=True)\n",
    "    folium.CircleMarker(\n",
    "        [lat, lng],\n",
    "        radius=5,\n",
    "        popup=label,\n",
    "        color='red',\n",
    "        fill=True,\n",
    "        fill_color='#3186cc',\n",
    "        fill_opacity=0.7).add_to(map_SG)  \n",
    "map_SG"
   ]
  },
  {
   "cell_type": "code",
   "execution_count": 64,
   "metadata": {},
   "outputs": [],
   "source": [
    "#Save The Map\n",
    "map_SG.save('map_SG.html')"
   ]
  },
  {
   "cell_type": "markdown",
   "metadata": {},
   "source": [
    "## Foursquare Section"
   ]
  },
  {
   "cell_type": "code",
   "execution_count": 65,
   "metadata": {},
   "outputs": [
    {
     "name": "stdout",
     "output_type": "stream",
     "text": [
      "Your credentials:\n",
      "CLIENT_ID: LE3EDX02I5LDJAKS5UI4SR1IT5CO1MKLAX3TTCI53VSYGEMY\n",
      "CLIENT_SECRET:PCM4W5RJF0H4FXFM4LGUUVGROTVUDDGM3SAI4MI3ALRLELEB\n"
     ]
    }
   ],
   "source": [
    "#Initialising Foursquare Credentials\n",
    "CLIENT_ID = 'LE3EDX02I5LDJAKS5UI4SR1IT5CO1MKLAX3TTCI53VSYGEMY'\n",
    "CLIENT_SECRET = 'PCM4W5RJF0H4FXFM4LGUUVGROTVUDDGM3SAI4MI3ALRLELEB'\n",
    "VERSION = '20180605' # Foursquare API version\n",
    "\n",
    "print('Your credentials:')\n",
    "print('CLIENT_ID: ' + CLIENT_ID)\n",
    "print('CLIENT_SECRET:' + CLIENT_SECRET)\n",
    "limit = 60"
   ]
  },
  {
   "cell_type": "code",
   "execution_count": 66,
   "metadata": {},
   "outputs": [],
   "source": [
    "#Defining Function to retrieve venues in the vicinity\n",
    "def getNearbyVenues(names, latitudes, longitudes, radius=2000):\n",
    "    \n",
    "    venues_list=[]\n",
    "    for name, lat, lng in zip(names, latitudes, longitudes):\n",
    "        #print(name)\n",
    "            \n",
    "        # create the API request URL\n",
    "        url = 'https://api.foursquare.com/v2/venues/search?&categoryId=58daa1558bbb0b01f18ec1f7&client_id={}&client_secret={}&v={}&ll={},{}&radius={}&limit={}'.format(\n",
    "            CLIENT_ID, \n",
    "            CLIENT_SECRET, \n",
    "            VERSION, \n",
    "            lat, \n",
    "            lng, \n",
    "            radius, \n",
    "            limit)\n",
    "            \n",
    "        # make the GET request\n",
    "        results = requests.get(url).json()['response']['venues']\n",
    "        \n",
    "        # return only relevant information for each nearby venue\n",
    "        venues_list.append([(\n",
    "            name, \n",
    "            lat, \n",
    "            lng, \n",
    "            v['name'], \n",
    "            v['location']['lat'], \n",
    "            v['location']['lng'],\n",
    "            v['categories'][0]['name']) for v in results])\n",
    "            \n",
    "     \n",
    "    nearby_venues = pd.DataFrame([item for venue_list in venues_list for item in venue_list])\n",
    "    nearby_venues.columns = ['Name', \n",
    "                  'Neighborhood Latitude', \n",
    "                  'Neighborhood Longitude', \n",
    "                  'Venue', \n",
    "                  'Venue Latitude', \n",
    "                  'Venue Longitude',\n",
    "                  'Venue Category']\n",
    "    \n",
    "    return(nearby_venues)"
   ]
  },
  {
   "cell_type": "code",
   "execution_count": 67,
   "metadata": {},
   "outputs": [],
   "source": [
    "SG_venues3 = getNearbyVenues(names=df_SG4['Name'],\n",
    "                                   latitudes=df_SG4['Latitude'],\n",
    "                                   longitudes=df_SG4['Longitude']\n",
    "                                  )"
   ]
  },
  {
   "cell_type": "code",
   "execution_count": 68,
   "metadata": {},
   "outputs": [
    {
     "name": "stdout",
     "output_type": "stream",
     "text": [
      "(161, 7)\n"
     ]
    }
   ],
   "source": [
    "#Create a DataFrame to count hospital wards\n",
    "venues_df = pd.DataFrame(SG_venues3)\n",
    "\n",
    "# Define column names\n",
    "venues_df.columns = ['Name', 'Latitude', 'Longitude', 'Venue_Name', 'Venue_Latitude', 'Venue_Longitude', 'Venue_Category']\n",
    "\n",
    "print(venues_df.shape)\n",
    "\n",
    "#Save SG_Venues to CSV file\n",
    "SG_venues3.to_csv('SG_venues3.csv')"
   ]
  },
  {
   "cell_type": "code",
   "execution_count": 69,
   "metadata": {},
   "outputs": [],
   "source": [
    "#Merging our hospital ward count dataframe with previous df_SG2 dataframe that contains population density\n",
    "#The new df_merged database will be used for clustering the neighborhoods\n",
    "#Note that Name columns means Town Name\n",
    "#For towns that do not have hospital ward, ward count is assigned zero (0) with fillna function \n",
    "df_to_merge = pd.DataFrame(venues_df.groupby(['Name']).count().iloc[:,2]).reset_index()\n",
    "df_to_merge.rename(columns={'Venue_Name':'Ward Count'}, inplace=True)\n",
    "df_merged = df_SG2.merge(df_to_merge, on='Name', how='left').fillna(0)\n",
    "df_merged.to_csv('df_merged.csv', index = False)"
   ]
  },
  {
   "cell_type": "markdown",
   "metadata": {},
   "source": [
    "## Clustering Section"
   ]
  },
  {
   "cell_type": "code",
   "execution_count": 70,
   "metadata": {},
   "outputs": [
    {
     "data": {
      "text/html": [
       "<div>\n",
       "<style scoped>\n",
       "    .dataframe tbody tr th:only-of-type {\n",
       "        vertical-align: middle;\n",
       "    }\n",
       "\n",
       "    .dataframe tbody tr th {\n",
       "        vertical-align: top;\n",
       "    }\n",
       "\n",
       "    .dataframe thead th {\n",
       "        text-align: right;\n",
       "    }\n",
       "</style>\n",
       "<table border=\"1\" class=\"dataframe\">\n",
       "  <thead>\n",
       "    <tr style=\"text-align: right;\">\n",
       "      <th></th>\n",
       "      <th>Name</th>\n",
       "      <th>Population Density</th>\n",
       "      <th>Ward Count</th>\n",
       "    </tr>\n",
       "  </thead>\n",
       "  <tbody>\n",
       "    <tr>\n",
       "      <th>0</th>\n",
       "      <td>Ang Mo Kio</td>\n",
       "      <td>52.932862</td>\n",
       "      <td>0.0</td>\n",
       "    </tr>\n",
       "    <tr>\n",
       "      <th>1</th>\n",
       "      <td>Bedok</td>\n",
       "      <td>48.875598</td>\n",
       "      <td>8.0</td>\n",
       "    </tr>\n",
       "    <tr>\n",
       "      <th>2</th>\n",
       "      <td>Bishan</td>\n",
       "      <td>38.197674</td>\n",
       "      <td>6.0</td>\n",
       "    </tr>\n",
       "    <tr>\n",
       "      <th>3</th>\n",
       "      <td>Bukit Batok</td>\n",
       "      <td>39.106529</td>\n",
       "      <td>8.0</td>\n",
       "    </tr>\n",
       "    <tr>\n",
       "      <th>4</th>\n",
       "      <td>Bukit Merah</td>\n",
       "      <td>47.115385</td>\n",
       "      <td>26.0</td>\n",
       "    </tr>\n",
       "  </tbody>\n",
       "</table>\n",
       "</div>"
      ],
      "text/plain": [
       "          Name  Population Density  Ward Count\n",
       "0   Ang Mo Kio           52.932862         0.0\n",
       "1        Bedok           48.875598         8.0\n",
       "2       Bishan           38.197674         6.0\n",
       "3  Bukit Batok           39.106529         8.0\n",
       "4  Bukit Merah           47.115385        26.0"
      ]
     },
     "execution_count": 70,
     "metadata": {},
     "output_type": "execute_result"
    }
   ],
   "source": [
    "df_cluster = pd.read_csv('df_merged.csv')\n",
    "df_cluster.drop({'Total Area', 'Residential_Area', 'Population', 'Latitude', 'Longitude'}, axis=1,inplace = True)\n",
    "df_cluster.head()"
   ]
  },
  {
   "cell_type": "markdown",
   "metadata": {},
   "source": [
    "### Now, we will scale the dataframe for clustering with minmax scaler function from sklearn"
   ]
  },
  {
   "cell_type": "code",
   "execution_count": 71,
   "metadata": {},
   "outputs": [
    {
     "data": {
      "text/html": [
       "<div>\n",
       "<style scoped>\n",
       "    .dataframe tbody tr th:only-of-type {\n",
       "        vertical-align: middle;\n",
       "    }\n",
       "\n",
       "    .dataframe tbody tr th {\n",
       "        vertical-align: top;\n",
       "    }\n",
       "\n",
       "    .dataframe thead th {\n",
       "        text-align: right;\n",
       "    }\n",
       "</style>\n",
       "<table border=\"1\" class=\"dataframe\">\n",
       "  <thead>\n",
       "    <tr style=\"text-align: right;\">\n",
       "      <th></th>\n",
       "      <th>Name</th>\n",
       "      <th>S_Population_Density</th>\n",
       "      <th>S_Ward_Count</th>\n",
       "    </tr>\n",
       "  </thead>\n",
       "  <tbody>\n",
       "    <tr>\n",
       "      <th>0</th>\n",
       "      <td>Ang Mo Kio</td>\n",
       "      <td>0.953049</td>\n",
       "      <td>0.000000</td>\n",
       "    </tr>\n",
       "    <tr>\n",
       "      <th>1</th>\n",
       "      <td>Bedok</td>\n",
       "      <td>0.829516</td>\n",
       "      <td>0.163265</td>\n",
       "    </tr>\n",
       "    <tr>\n",
       "      <th>2</th>\n",
       "      <td>Bishan</td>\n",
       "      <td>0.504400</td>\n",
       "      <td>0.122449</td>\n",
       "    </tr>\n",
       "    <tr>\n",
       "      <th>3</th>\n",
       "      <td>Bukit Batok</td>\n",
       "      <td>0.532073</td>\n",
       "      <td>0.163265</td>\n",
       "    </tr>\n",
       "    <tr>\n",
       "      <th>4</th>\n",
       "      <td>Bukit Merah</td>\n",
       "      <td>0.775922</td>\n",
       "      <td>0.530612</td>\n",
       "    </tr>\n",
       "  </tbody>\n",
       "</table>\n",
       "</div>"
      ],
      "text/plain": [
       "          Name  S_Population_Density  S_Ward_Count\n",
       "0   Ang Mo Kio              0.953049      0.000000\n",
       "1        Bedok              0.829516      0.163265\n",
       "2       Bishan              0.504400      0.122449\n",
       "3  Bukit Batok              0.532073      0.163265\n",
       "4  Bukit Merah              0.775922      0.530612"
      ]
     },
     "execution_count": 71,
     "metadata": {},
     "output_type": "execute_result"
    }
   ],
   "source": [
    "scaler = MinMaxScaler()\n",
    "df_scaled = pd.DataFrame(scaler.fit_transform(df_cluster.iloc[:,1:]))\n",
    "df_scaled.rename(columns={0:'S_Population_Density', 1:'S_Ward_Count'}, inplace=True)\n",
    "df_scaled['Name'] = df_cluster['Name']\n",
    "fixed_columns4 = [df_scaled.columns[-1]] + list(df_scaled.columns[:-1])\n",
    "df_scaled = df_scaled[fixed_columns4]\n",
    "df_scaled.head()"
   ]
  },
  {
   "cell_type": "markdown",
   "metadata": {},
   "source": [
    "## Try to Cluster Neighborhoods"
   ]
  },
  {
   "cell_type": "code",
   "execution_count": 72,
   "metadata": {},
   "outputs": [
    {
     "data": {
      "image/png": "[encoded data removed]",
      "text/plain": [
       "<Figure size 432x288 with 2 Axes>"
      ]
     },
     "metadata": {},
     "output_type": "display_data"
    },
    {
     "data": {
      "text/plain": [
       "<matplotlib.axes._subplots.AxesSubplot at 0x7f1ebc9fbf60>"
      ]
     },
     "execution_count": 72,
     "metadata": {},
     "output_type": "execute_result"
    }
   ],
   "source": [
    "df_SG5 = df_SG2.copy()\n",
    "df_clustered = df_scaled.drop('Name', 1)\n",
    "\n",
    "# Instantiate the clustering model and visualizer\n",
    "kmeans = KMeans()\n",
    "visualizer = KElbowVisualizer(kmeans, k=(3,10))\n",
    "visualizer.fit(df_clustered)       \n",
    "visualizer.show()  "
   ]
  },
  {
   "cell_type": "code",
   "execution_count": 73,
   "metadata": {},
   "outputs": [
    {
     "data": {
      "text/html": [
       "<div>\n",
       "<style scoped>\n",
       "    .dataframe tbody tr th:only-of-type {\n",
       "        vertical-align: middle;\n",
       "    }\n",
       "\n",
       "    .dataframe tbody tr th {\n",
       "        vertical-align: top;\n",
       "    }\n",
       "\n",
       "    .dataframe thead th {\n",
       "        text-align: right;\n",
       "    }\n",
       "</style>\n",
       "<table border=\"1\" class=\"dataframe\">\n",
       "  <thead>\n",
       "    <tr style=\"text-align: right;\">\n",
       "      <th></th>\n",
       "      <th>Name</th>\n",
       "      <th>Total Area</th>\n",
       "      <th>Residential_Area</th>\n",
       "      <th>Population</th>\n",
       "      <th>Latitude</th>\n",
       "      <th>Longitude</th>\n",
       "      <th>Population Density</th>\n",
       "      <th>Cluster Labels</th>\n",
       "      <th>S_Population_Density</th>\n",
       "      <th>S_Ward_Count</th>\n",
       "    </tr>\n",
       "  </thead>\n",
       "  <tbody>\n",
       "    <tr>\n",
       "      <th>0</th>\n",
       "      <td>Ang Mo Kio</td>\n",
       "      <td>6.38</td>\n",
       "      <td>2.83</td>\n",
       "      <td>149.8</td>\n",
       "      <td>1.37161</td>\n",
       "      <td>103.84546</td>\n",
       "      <td>52.932862</td>\n",
       "      <td>3</td>\n",
       "      <td>0.953049</td>\n",
       "      <td>0.000000</td>\n",
       "    </tr>\n",
       "    <tr>\n",
       "      <th>1</th>\n",
       "      <td>Bedok</td>\n",
       "      <td>9.37</td>\n",
       "      <td>4.18</td>\n",
       "      <td>204.3</td>\n",
       "      <td>1.32425</td>\n",
       "      <td>103.95297</td>\n",
       "      <td>48.875598</td>\n",
       "      <td>1</td>\n",
       "      <td>0.829516</td>\n",
       "      <td>0.163265</td>\n",
       "    </tr>\n",
       "    <tr>\n",
       "      <th>2</th>\n",
       "      <td>Bishan</td>\n",
       "      <td>6.90</td>\n",
       "      <td>1.72</td>\n",
       "      <td>65.7</td>\n",
       "      <td>1.35079</td>\n",
       "      <td>103.85110</td>\n",
       "      <td>38.197674</td>\n",
       "      <td>4</td>\n",
       "      <td>0.504400</td>\n",
       "      <td>0.122449</td>\n",
       "    </tr>\n",
       "    <tr>\n",
       "      <th>3</th>\n",
       "      <td>Bukit Batok</td>\n",
       "      <td>7.85</td>\n",
       "      <td>2.91</td>\n",
       "      <td>113.8</td>\n",
       "      <td>1.34952</td>\n",
       "      <td>103.75277</td>\n",
       "      <td>39.106529</td>\n",
       "      <td>4</td>\n",
       "      <td>0.532073</td>\n",
       "      <td>0.163265</td>\n",
       "    </tr>\n",
       "    <tr>\n",
       "      <th>4</th>\n",
       "      <td>Bukit Merah</td>\n",
       "      <td>8.58</td>\n",
       "      <td>3.12</td>\n",
       "      <td>147.0</td>\n",
       "      <td>1.28322</td>\n",
       "      <td>103.81676</td>\n",
       "      <td>47.115385</td>\n",
       "      <td>5</td>\n",
       "      <td>0.775922</td>\n",
       "      <td>0.530612</td>\n",
       "    </tr>\n",
       "  </tbody>\n",
       "</table>\n",
       "</div>"
      ],
      "text/plain": [
       "          Name  Total Area  Residential_Area  Population  Latitude  Longitude  \\\n",
       "0   Ang Mo Kio        6.38              2.83       149.8   1.37161  103.84546   \n",
       "1        Bedok        9.37              4.18       204.3   1.32425  103.95297   \n",
       "2       Bishan        6.90              1.72        65.7   1.35079  103.85110   \n",
       "3  Bukit Batok        7.85              2.91       113.8   1.34952  103.75277   \n",
       "4  Bukit Merah        8.58              3.12       147.0   1.28322  103.81676   \n",
       "\n",
       "   Population Density  Cluster Labels  S_Population_Density  S_Ward_Count  \n",
       "0           52.932862               3              0.953049      0.000000  \n",
       "1           48.875598               1              0.829516      0.163265  \n",
       "2           38.197674               4              0.504400      0.122449  \n",
       "3           39.106529               4              0.532073      0.163265  \n",
       "4           47.115385               5              0.775922      0.530612  "
      ]
     },
     "execution_count": 73,
     "metadata": {},
     "output_type": "execute_result"
    }
   ],
   "source": [
    "#Determine number of clusters\n",
    "#According to yellowbrick visualiser, optimal cluster number = 6\n",
    "kclusters = 6\n",
    "\n",
    "# run k-means clustering\n",
    "kmeans = KMeans(n_clusters=kclusters, random_state=0).fit(df_clustered)\n",
    "#Add Cluster Labels back to dataframe\n",
    "df_SG5.insert(7, 'Cluster Labels', kmeans.labels_)\n",
    "df_SG5.dropna(inplace=True)\n",
    "df_SG5 = df_SG5.merge(df_scaled, on = 'Name', how = 'left').fillna(0)\n",
    "#df_SG5.drop({2}, axis=1, inplace=True)\n",
    "df_SG5.head()"
   ]
  },
  {
   "cell_type": "code",
   "execution_count": 157,
   "metadata": {},
   "outputs": [
    {
     "data": {
      "text/html": [
       "<div style=\"width:100%;\"><div style=\"position:relative;width:100%;height:0;padding-bottom:60%;\"><iframe src=\"data:text/html;charset=utf-8;base64,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\" style=\"position:absolute;width:100%;height:100%;left:0;top:0;border:none !important;\" allowfullscreen webkitallowfullscreen mozallowfullscreen></iframe></div></div>"
      ],
      "text/plain": [
       "<folium.folium.Map at 0x7f1e97f48da0>"
      ]
     },
     "execution_count": 157,
     "metadata": {},
     "output_type": "execute_result"
    }
   ],
   "source": [
    "# create map\n",
    "map_clusters = folium.Map(location=[latitude, longitude], zoom_start=11, tiles='Stamen Terrain')\n",
    "\n",
    "# set color scheme for the clusters\n",
    "x = np.arange(kclusters)\n",
    "ys = [i + x + (i*x)**2 for i in range(kclusters)]\n",
    "colors_array = cm.rainbow(np.linspace(0, 1, len(ys)))\n",
    "rainbow = [colors.rgb2hex(i) for i in colors_array]\n",
    "\n",
    "# add markers to the map\n",
    "markers_colors = []\n",
    "for lat, lon, poi, cluster in zip(df_SG5['Latitude'], df_SG5['Longitude'], df_SG5['Name'], df_SG5['Cluster Labels']):\n",
    "    label = folium.Popup(str(poi) + ' Cluster ' + str(cluster), parse_html=True)\n",
    "    folium.CircleMarker(\n",
    "        [lat, lon],\n",
    "        radius=5,\n",
    "        popup=label,\n",
    "        color=rainbow[cluster-1],\n",
    "        na=True,\n",
    "        fill=True,\n",
    "        fill_color=rainbow[cluster-1],\n",
    "        fill_opacity=0.9).add_to(map_clusters)\n",
    "       \n",
    "map_clusters"
   ]
  },
  {
   "cell_type": "markdown",
   "metadata": {},
   "source": [
    "### Legends  \n",
    "Cluster 0: Red   \n",
    "Cluster 1: Violet   \n",
    "Cluster 2: Blue   \n",
    "Cluster 3: Turquoise   \n",
    "Cluster 4: Pale Green   \n",
    "Cluster 5: Orange  "
   ]
  },
  {
   "cell_type": "code",
   "execution_count": 133,
   "metadata": {},
   "outputs": [],
   "source": [
    "#Save The Cluster Map\n",
    "map_clusters.save('map_clusters.html')"
   ]
  },
  {
   "cell_type": "markdown",
   "metadata": {},
   "source": [
    "## Summarising the mean results of each cluster"
   ]
  },
  {
   "cell_type": "code",
   "execution_count": 104,
   "metadata": {},
   "outputs": [
    {
     "data": {
      "text/html": [
       "<div>\n",
       "<style scoped>\n",
       "    .dataframe tbody tr th:only-of-type {\n",
       "        vertical-align: middle;\n",
       "    }\n",
       "\n",
       "    .dataframe tbody tr th {\n",
       "        vertical-align: top;\n",
       "    }\n",
       "\n",
       "    .dataframe thead th {\n",
       "        text-align: right;\n",
       "    }\n",
       "</style>\n",
       "<table border=\"1\" class=\"dataframe\">\n",
       "  <thead>\n",
       "    <tr style=\"text-align: right;\">\n",
       "      <th></th>\n",
       "      <th>S_Population_Density</th>\n",
       "      <th>S_Ward_Count</th>\n",
       "    </tr>\n",
       "    <tr>\n",
       "      <th>Cluster Labels</th>\n",
       "      <th></th>\n",
       "      <th></th>\n",
       "    </tr>\n",
       "  </thead>\n",
       "  <tbody>\n",
       "    <tr>\n",
       "      <th>3</th>\n",
       "      <td>0.953241</td>\n",
       "      <td>0.000000</td>\n",
       "    </tr>\n",
       "    <tr>\n",
       "      <th>5</th>\n",
       "      <td>0.823461</td>\n",
       "      <td>0.642857</td>\n",
       "    </tr>\n",
       "    <tr>\n",
       "      <th>1</th>\n",
       "      <td>0.755956</td>\n",
       "      <td>0.058673</td>\n",
       "    </tr>\n",
       "    <tr>\n",
       "      <th>0</th>\n",
       "      <td>0.661177</td>\n",
       "      <td>1.000000</td>\n",
       "    </tr>\n",
       "    <tr>\n",
       "      <th>4</th>\n",
       "      <td>0.480231</td>\n",
       "      <td>0.093878</td>\n",
       "    </tr>\n",
       "    <tr>\n",
       "      <th>2</th>\n",
       "      <td>0.075705</td>\n",
       "      <td>0.030612</td>\n",
       "    </tr>\n",
       "  </tbody>\n",
       "</table>\n",
       "</div>"
      ],
      "text/plain": [
       "                S_Population_Density  S_Ward_Count\n",
       "Cluster Labels                                    \n",
       "3                           0.953241      0.000000\n",
       "5                           0.823461      0.642857\n",
       "1                           0.755956      0.058673\n",
       "0                           0.661177      1.000000\n",
       "4                           0.480231      0.093878\n",
       "2                           0.075705      0.030612"
      ]
     },
     "execution_count": 104,
     "metadata": {},
     "output_type": "execute_result"
    }
   ],
   "source": [
    "df_SG7 = df_SG5.groupby('Cluster Labels').mean()\n",
    "df_SG8 = df_SG7.iloc[:, [6,7]].sort_values(\"S_Population_Density\", ascending=False)\n",
    "df_SG8"
   ]
  },
  {
   "cell_type": "markdown",
   "metadata": {},
   "source": [
    "## Data Analysis  \n",
    "It can be inferred from the table above that:     \n",
    "Cluster 0: medium-high population density, highest hospital ward count    \n",
    "Cluster 1: high population density, very low hospital ward count    \n",
    "Cluster 2: lowest population density, very low hospital ward count    \n",
    "Cluster 3: highest population density, no hospital ward count   \n",
    "Cluster 4: medium population density, low hospital ward count  \n",
    "Cluster 5: high population density, moderate ward count  \n",
    "\n",
    "Therefore, we can summarise the results as priorities to develop each cluster as follows:  \n",
    "High priority clusters: 3, 1   \n",
    "Medium priority clusters: 4   \n",
    "Low priority clusters: 5, 2     \n",
    "Zero priority clusters: 0    \n",
    "   \n",
    "High Priority Clusters 3 and 1   \n",
    "Towns     \n",
    "--- 3: Ang Mo Kio, Bukit Panjang, Choa Chu Kang, Jurong West, Woodlands     \n",
    "--- 1: Bedok, Geylang, Hougang, Jurong East, Sengkang, Serangoon, Tampines, Yishun  \n",
    "   \n",
    "Medium Priority Cluster 4   \n",
    "Towns   \n",
    "--- 4: Bishan, Bukit Batok, Clementi, Pasir Ris, Queenstown   \n",
    "    \n",
    "Low Priority Clusters 5 and 2   \n",
    "Towns    \n",
    "--- 5: Bukit Merah, Kallang/Whampoa  \n",
    "--- 2: Punggol, Sembawang     \n",
    "     \n",
    "Zero Priority Cluster 0     \n",
    "Towns     \n",
    "--- 0: Toa Payoh   "
   ]
  },
  {
   "cell_type": "markdown",
   "metadata": {},
   "source": [
    "## Cluster 0"
   ]
  },
  {
   "cell_type": "code",
   "execution_count": 77,
   "metadata": {},
   "outputs": [
    {
     "data": {
      "text/html": [
       "<div>\n",
       "<style scoped>\n",
       "    .dataframe tbody tr th:only-of-type {\n",
       "        vertical-align: middle;\n",
       "    }\n",
       "\n",
       "    .dataframe tbody tr th {\n",
       "        vertical-align: top;\n",
       "    }\n",
       "\n",
       "    .dataframe thead th {\n",
       "        text-align: right;\n",
       "    }\n",
       "</style>\n",
       "<table border=\"1\" class=\"dataframe\">\n",
       "  <thead>\n",
       "    <tr style=\"text-align: right;\">\n",
       "      <th></th>\n",
       "      <th>Name</th>\n",
       "      <th>S_Population_Density</th>\n",
       "      <th>S_Ward_Count</th>\n",
       "    </tr>\n",
       "  </thead>\n",
       "  <tbody>\n",
       "    <tr>\n",
       "      <th>20</th>\n",
       "      <td>Toa Payoh</td>\n",
       "      <td>0.661177</td>\n",
       "      <td>1.0</td>\n",
       "    </tr>\n",
       "  </tbody>\n",
       "</table>\n",
       "</div>"
      ],
      "text/plain": [
       "         Name  S_Population_Density  S_Ward_Count\n",
       "20  Toa Payoh              0.661177           1.0"
      ]
     },
     "execution_count": 77,
     "metadata": {},
     "output_type": "execute_result"
    }
   ],
   "source": [
    "df_SG6 = df_SG5[df_SG5['Cluster Labels'] == 0]\n",
    "df_SG6.iloc[:, [0,8,9]]"
   ]
  },
  {
   "cell_type": "markdown",
   "metadata": {},
   "source": [
    "## Cluster 1"
   ]
  },
  {
   "cell_type": "code",
   "execution_count": 78,
   "metadata": {},
   "outputs": [
    {
     "data": {
      "text/html": [
       "<div>\n",
       "<style scoped>\n",
       "    .dataframe tbody tr th:only-of-type {\n",
       "        vertical-align: middle;\n",
       "    }\n",
       "\n",
       "    .dataframe tbody tr th {\n",
       "        vertical-align: top;\n",
       "    }\n",
       "\n",
       "    .dataframe thead th {\n",
       "        text-align: right;\n",
       "    }\n",
       "</style>\n",
       "<table border=\"1\" class=\"dataframe\">\n",
       "  <thead>\n",
       "    <tr style=\"text-align: right;\">\n",
       "      <th></th>\n",
       "      <th>Name</th>\n",
       "      <th>S_Population_Density</th>\n",
       "      <th>S_Ward_Count</th>\n",
       "    </tr>\n",
       "  </thead>\n",
       "  <tbody>\n",
       "    <tr>\n",
       "      <th>1</th>\n",
       "      <td>Bedok</td>\n",
       "      <td>0.829516</td>\n",
       "      <td>0.163265</td>\n",
       "    </tr>\n",
       "    <tr>\n",
       "      <th>8</th>\n",
       "      <td>Geylang</td>\n",
       "      <td>0.648912</td>\n",
       "      <td>0.000000</td>\n",
       "    </tr>\n",
       "    <tr>\n",
       "      <th>9</th>\n",
       "      <td>Hougang</td>\n",
       "      <td>0.833055</td>\n",
       "      <td>0.000000</td>\n",
       "    </tr>\n",
       "    <tr>\n",
       "      <th>10</th>\n",
       "      <td>Jurong East</td>\n",
       "      <td>0.823154</td>\n",
       "      <td>0.163265</td>\n",
       "    </tr>\n",
       "    <tr>\n",
       "      <th>17</th>\n",
       "      <td>Sengkang</td>\n",
       "      <td>0.771718</td>\n",
       "      <td>0.061224</td>\n",
       "    </tr>\n",
       "    <tr>\n",
       "      <th>18</th>\n",
       "      <td>Serangoon</td>\n",
       "      <td>0.704976</td>\n",
       "      <td>0.000000</td>\n",
       "    </tr>\n",
       "    <tr>\n",
       "      <th>19</th>\n",
       "      <td>Tampines</td>\n",
       "      <td>0.667423</td>\n",
       "      <td>0.020408</td>\n",
       "    </tr>\n",
       "    <tr>\n",
       "      <th>22</th>\n",
       "      <td>Yishun</td>\n",
       "      <td>0.768890</td>\n",
       "      <td>0.061224</td>\n",
       "    </tr>\n",
       "  </tbody>\n",
       "</table>\n",
       "</div>"
      ],
      "text/plain": [
       "           Name  S_Population_Density  S_Ward_Count\n",
       "1         Bedok              0.829516      0.163265\n",
       "8       Geylang              0.648912      0.000000\n",
       "9       Hougang              0.833055      0.000000\n",
       "10  Jurong East              0.823154      0.163265\n",
       "17     Sengkang              0.771718      0.061224\n",
       "18    Serangoon              0.704976      0.000000\n",
       "19     Tampines              0.667423      0.020408\n",
       "22       Yishun              0.768890      0.061224"
      ]
     },
     "execution_count": 78,
     "metadata": {},
     "output_type": "execute_result"
    }
   ],
   "source": [
    "df_SG6 = df_SG5[df_SG5['Cluster Labels'] == 1]\n",
    "df_SG6.iloc[:, [0,8,9]]"
   ]
  },
  {
   "cell_type": "markdown",
   "metadata": {},
   "source": [
    "## Cluster 2"
   ]
  },
  {
   "cell_type": "code",
   "execution_count": 79,
   "metadata": {},
   "outputs": [
    {
     "data": {
      "text/html": [
       "<div>\n",
       "<style scoped>\n",
       "    .dataframe tbody tr th:only-of-type {\n",
       "        vertical-align: middle;\n",
       "    }\n",
       "\n",
       "    .dataframe tbody tr th {\n",
       "        vertical-align: top;\n",
       "    }\n",
       "\n",
       "    .dataframe thead th {\n",
       "        text-align: right;\n",
       "    }\n",
       "</style>\n",
       "<table border=\"1\" class=\"dataframe\">\n",
       "  <thead>\n",
       "    <tr style=\"text-align: right;\">\n",
       "      <th></th>\n",
       "      <th>Name</th>\n",
       "      <th>S_Population_Density</th>\n",
       "      <th>S_Ward_Count</th>\n",
       "    </tr>\n",
       "  </thead>\n",
       "  <tbody>\n",
       "    <tr>\n",
       "      <th>14</th>\n",
       "      <td>Punggol</td>\n",
       "      <td>0.151411</td>\n",
       "      <td>0.061224</td>\n",
       "    </tr>\n",
       "    <tr>\n",
       "      <th>16</th>\n",
       "      <td>Sembawang</td>\n",
       "      <td>0.000000</td>\n",
       "      <td>0.000000</td>\n",
       "    </tr>\n",
       "  </tbody>\n",
       "</table>\n",
       "</div>"
      ],
      "text/plain": [
       "         Name  S_Population_Density  S_Ward_Count\n",
       "14    Punggol              0.151411      0.061224\n",
       "16  Sembawang              0.000000      0.000000"
      ]
     },
     "execution_count": 79,
     "metadata": {},
     "output_type": "execute_result"
    }
   ],
   "source": [
    "df_SG6 = df_SG5[df_SG5['Cluster Labels'] == 2]\n",
    "df_SG6.iloc[:, [0,8,9]]"
   ]
  },
  {
   "cell_type": "markdown",
   "metadata": {},
   "source": [
    "## Cluster 3"
   ]
  },
  {
   "cell_type": "code",
   "execution_count": 80,
   "metadata": {},
   "outputs": [
    {
     "data": {
      "text/html": [
       "<div>\n",
       "<style scoped>\n",
       "    .dataframe tbody tr th:only-of-type {\n",
       "        vertical-align: middle;\n",
       "    }\n",
       "\n",
       "    .dataframe tbody tr th {\n",
       "        vertical-align: top;\n",
       "    }\n",
       "\n",
       "    .dataframe thead th {\n",
       "        text-align: right;\n",
       "    }\n",
       "</style>\n",
       "<table border=\"1\" class=\"dataframe\">\n",
       "  <thead>\n",
       "    <tr style=\"text-align: right;\">\n",
       "      <th></th>\n",
       "      <th>Name</th>\n",
       "      <th>S_Population_Density</th>\n",
       "      <th>S_Ward_Count</th>\n",
       "    </tr>\n",
       "  </thead>\n",
       "  <tbody>\n",
       "    <tr>\n",
       "      <th>0</th>\n",
       "      <td>Ang Mo Kio</td>\n",
       "      <td>0.953049</td>\n",
       "      <td>0.0</td>\n",
       "    </tr>\n",
       "    <tr>\n",
       "      <th>5</th>\n",
       "      <td>Bukit Panjang</td>\n",
       "      <td>1.000000</td>\n",
       "      <td>0.0</td>\n",
       "    </tr>\n",
       "    <tr>\n",
       "      <th>6</th>\n",
       "      <td>Choa Chu Kang</td>\n",
       "      <td>0.939126</td>\n",
       "      <td>0.0</td>\n",
       "    </tr>\n",
       "    <tr>\n",
       "      <th>11</th>\n",
       "      <td>Jurong West</td>\n",
       "      <td>0.990616</td>\n",
       "      <td>0.0</td>\n",
       "    </tr>\n",
       "    <tr>\n",
       "      <th>21</th>\n",
       "      <td>Woodlands</td>\n",
       "      <td>0.883415</td>\n",
       "      <td>0.0</td>\n",
       "    </tr>\n",
       "  </tbody>\n",
       "</table>\n",
       "</div>"
      ],
      "text/plain": [
       "             Name  S_Population_Density  S_Ward_Count\n",
       "0      Ang Mo Kio              0.953049           0.0\n",
       "5   Bukit Panjang              1.000000           0.0\n",
       "6   Choa Chu Kang              0.939126           0.0\n",
       "11    Jurong West              0.990616           0.0\n",
       "21      Woodlands              0.883415           0.0"
      ]
     },
     "execution_count": 80,
     "metadata": {},
     "output_type": "execute_result"
    }
   ],
   "source": [
    "df_SG6 = df_SG5[df_SG5['Cluster Labels'] == 3]\n",
    "df_SG6.iloc[:, [0,8,9]]"
   ]
  },
  {
   "cell_type": "markdown",
   "metadata": {},
   "source": [
    "## Cluster 4\n"
   ]
  },
  {
   "cell_type": "code",
   "execution_count": 81,
   "metadata": {},
   "outputs": [
    {
     "data": {
      "text/html": [
       "<div>\n",
       "<style scoped>\n",
       "    .dataframe tbody tr th:only-of-type {\n",
       "        vertical-align: middle;\n",
       "    }\n",
       "\n",
       "    .dataframe tbody tr th {\n",
       "        vertical-align: top;\n",
       "    }\n",
       "\n",
       "    .dataframe thead th {\n",
       "        text-align: right;\n",
       "    }\n",
       "</style>\n",
       "<table border=\"1\" class=\"dataframe\">\n",
       "  <thead>\n",
       "    <tr style=\"text-align: right;\">\n",
       "      <th></th>\n",
       "      <th>Name</th>\n",
       "      <th>S_Population_Density</th>\n",
       "      <th>S_Ward_Count</th>\n",
       "    </tr>\n",
       "  </thead>\n",
       "  <tbody>\n",
       "    <tr>\n",
       "      <th>2</th>\n",
       "      <td>Bishan</td>\n",
       "      <td>0.504400</td>\n",
       "      <td>0.122449</td>\n",
       "    </tr>\n",
       "    <tr>\n",
       "      <th>3</th>\n",
       "      <td>Bukit Batok</td>\n",
       "      <td>0.532073</td>\n",
       "      <td>0.163265</td>\n",
       "    </tr>\n",
       "    <tr>\n",
       "      <th>7</th>\n",
       "      <td>Clementi</td>\n",
       "      <td>0.428787</td>\n",
       "      <td>0.000000</td>\n",
       "    </tr>\n",
       "    <tr>\n",
       "      <th>13</th>\n",
       "      <td>Pasir Ris</td>\n",
       "      <td>0.404167</td>\n",
       "      <td>0.020408</td>\n",
       "    </tr>\n",
       "    <tr>\n",
       "      <th>15</th>\n",
       "      <td>Queenstown</td>\n",
       "      <td>0.531729</td>\n",
       "      <td>0.163265</td>\n",
       "    </tr>\n",
       "  </tbody>\n",
       "</table>\n",
       "</div>"
      ],
      "text/plain": [
       "           Name  S_Population_Density  S_Ward_Count\n",
       "2        Bishan              0.504400      0.122449\n",
       "3   Bukit Batok              0.532073      0.163265\n",
       "7      Clementi              0.428787      0.000000\n",
       "13    Pasir Ris              0.404167      0.020408\n",
       "15   Queenstown              0.531729      0.163265"
      ]
     },
     "execution_count": 81,
     "metadata": {},
     "output_type": "execute_result"
    }
   ],
   "source": [
    "df_SG6 = df_SG5[df_SG5['Cluster Labels'] == 4]\n",
    "df_SG6.iloc[:, [0,8,9]]"
   ]
  },
  {
   "cell_type": "markdown",
   "metadata": {},
   "source": [
    "## Cluster 5"
   ]
  },
  {
   "cell_type": "code",
   "execution_count": 82,
   "metadata": {},
   "outputs": [
    {
     "data": {
      "text/html": [
       "<div>\n",
       "<style scoped>\n",
       "    .dataframe tbody tr th:only-of-type {\n",
       "        vertical-align: middle;\n",
       "    }\n",
       "\n",
       "    .dataframe tbody tr th {\n",
       "        vertical-align: top;\n",
       "    }\n",
       "\n",
       "    .dataframe thead th {\n",
       "        text-align: right;\n",
       "    }\n",
       "</style>\n",
       "<table border=\"1\" class=\"dataframe\">\n",
       "  <thead>\n",
       "    <tr style=\"text-align: right;\">\n",
       "      <th></th>\n",
       "      <th>Name</th>\n",
       "      <th>S_Population_Density</th>\n",
       "      <th>S_Ward_Count</th>\n",
       "    </tr>\n",
       "  </thead>\n",
       "  <tbody>\n",
       "    <tr>\n",
       "      <th>4</th>\n",
       "      <td>Bukit Merah</td>\n",
       "      <td>0.775922</td>\n",
       "      <td>0.530612</td>\n",
       "    </tr>\n",
       "    <tr>\n",
       "      <th>12</th>\n",
       "      <td>Kallang/Whampoa</td>\n",
       "      <td>0.871001</td>\n",
       "      <td>0.755102</td>\n",
       "    </tr>\n",
       "  </tbody>\n",
       "</table>\n",
       "</div>"
      ],
      "text/plain": [
       "               Name  S_Population_Density  S_Ward_Count\n",
       "4       Bukit Merah              0.775922      0.530612\n",
       "12  Kallang/Whampoa              0.871001      0.755102"
      ]
     },
     "execution_count": 82,
     "metadata": {},
     "output_type": "execute_result"
    }
   ],
   "source": [
    "df_SG6 = df_SG5[df_SG5['Cluster Labels'] == 5]\n",
    "df_SG6.iloc[:, [0,8,9]]"
   ]
  },
  {
   "cell_type": "markdown",
   "metadata": {},
   "source": [
    "## Further Investigation on Individual Towns\n",
    "\n",
    "By investigating further on high priority clusters: cluster 3 and cluster 1   \n",
    "It is found that certain towns provides even more surprising new facts.   \n",
    "Those facts are reported as follows:     \n",
    "1. Bukit Panjang has the highest population density across __Singapore__ but no hospital wards. \n",
    "1. Jurong West has the highest population density after Bukit Panjang in cluster 3 but no hospital wards.\n",
    "1. All cluster 3 towns outclasses those of cluster 1 because all cluster 3 towns have higher density and no hospital ward count.\n",
    "1. Hougang, Bedok, and Jurong East have the best potential from cluster 1 towns: the highest population density in cluster 1 but no hospital wards.\n",
    "\n",
    "In order to provide preventive advices, we may also look on other lower priority clusters.   \n",
    "Another new facts are also reported below:    \n",
    "1. Toa Payoh has the highest hospital ward count across __Singapore__. Thus, the reader is advised to set it aside.\n",
    "1. Sembawang has the lowest population density across __Singapore__, even though it has no hospital wards nearby. Thus, the reader is advised to set it aside. \n",
    "\n",
    "Furthermore, another interesting fact is found:  \n",
    "1. Clementi and Pasir Ris has moderate population density but zero and very low hospital ward respectively .   \n",
    "These two towns may be prioritised after considering the high priority areas from cluster 3 and 1 first.   "
   ]
  },
  {
   "cell_type": "markdown",
   "metadata": {},
   "source": [
    "# End of Capstone Project\n",
    "## Thank you very much."
   ]
  }
 ],
 "metadata": {
  "kernelspec": {
   "display_name": "Python",
   "language": "python",
   "name": "conda-env-python-py"
  },
  "language_info": {
   "codemirror_mode": {
    "name": "ipython",
    "version": 3
   },
   "file_extension": ".py",
   "mimetype": "text/x-python",
   "name": "python",
   "nbconvert_exporter": "python",
   "pygments_lexer": "ipython3",
   "version": "3.6.7"
  }
 },
 "nbformat": 4,
 "nbformat_minor": 4
}
